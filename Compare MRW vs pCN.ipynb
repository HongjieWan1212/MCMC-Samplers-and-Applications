{
 "metadata": {
  "language_info": {
   "codemirror_mode": {
    "name": "ipython",
    "version": 3
   },
   "file_extension": ".py",
   "mimetype": "text/x-python",
   "name": "python",
   "nbconvert_exporter": "python",
   "pygments_lexer": "ipython3",
   "version": "3.8.5"
  },
  "orig_nbformat": 4,
  "kernelspec": {
   "name": "python3",
   "display_name": "Python 3.8.5 64-bit ('base': conda)"
  },
  "interpreter": {
   "hash": "ed225720166559e7176d3793db16a2fd8d295f725007103b21ac3099d2a89ee8"
  }
 },
 "nbformat": 4,
 "nbformat_minor": 2,
 "cells": [
  {
   "cell_type": "code",
   "execution_count": 1,
   "metadata": {},
   "outputs": [],
   "source": [
    "import numpy as np"
   ]
  },
  {
   "cell_type": "code",
   "execution_count": 3,
   "metadata": {},
   "outputs": [],
   "source": [
    "# Generate observations\n",
    "theta = np.ones(dim)\n",
    "Ux = np.random.normal(1, 1, int(dim*dim)).reshape(dim,dim)\n",
    "data = theta*Ux + np.random.normal(0, 0.01, Ux.shape)\n",
    "Y = data.flatten()"
   ]
  },
  {
   "cell_type": "code",
   "execution_count": null,
   "metadata": {},
   "outputs": [],
   "source": [
    "# Simulation setting \n",
    "dim = int(1)\n",
    "B = 0\n",
    "X0 = 0.1\n",
    "gauss_sigma = 0.1**2\n",
    "\n",
    "# proposal function\n",
    "prop = lambda x: proposal.gauss_proposal(x, stepsize  = stepsize)\n",
    "# target distribution with gaussian proposal \n",
    "log_prob = lambda x: -x**2/(2*gauss_sigma) - np.sum((Y - x*Ux)**2)/(2*gauss_sigma)"
   ]
  }
 ]
}