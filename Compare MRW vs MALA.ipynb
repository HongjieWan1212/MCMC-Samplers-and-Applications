{
 "metadata": {
  "language_info": {
   "codemirror_mode": {
    "name": "ipython",
    "version": 3
   },
   "file_extension": ".py",
   "mimetype": "text/x-python",
   "name": "python",
   "nbconvert_exporter": "python",
   "pygments_lexer": "ipython3",
   "version": 3
  },
  "orig_nbformat": 4
 },
 "nbformat": 4,
 "nbformat_minor": 2,
 "cells": [
  {
   "source": [
    "# Two-dimension Guassian Example "
   ],
   "cell_type": "markdown",
   "metadata": {}
  },
  {
   "cell_type": "code",
   "execution_count": null,
   "metadata": {},
   "outputs": [],
   "source": [
    "# Import Helper function\n",
    "from package import *"
   ]
  },
  {
   "source": [
    "## Metropolis Random Walk"
   ],
   "cell_type": "markdown",
   "metadata": {}
  },
  {
   "cell_type": "code",
   "execution_count": null,
   "metadata": {},
   "outputs": [],
   "source": [
    "# Hyper parameters of target function \n",
    "# and iteration setting \n",
    "dim = 2 # dimension\n",
    "mu = 2  # loc paramter \n",
    "gauss_sigma = np.diag([2, 0.05]) # scale parameter \n",
    "X0 = np.array([-2, -2]) # Initialisation \n",
    "stepsize = 0.95 \n",
    "N = 100000            # total iteration \n",
    "B = 5000              # burn-in \n",
    "N_chain = 1         # number of chains "
   ]
  },
  {
   "cell_type": "code",
   "execution_count": null,
   "metadata": {},
   "outputs": [],
   "source": [
    "# proposal step\n",
    "prop = lambda x: proposal.gauss_proposal(x, stepsize  = stepsize)\n",
    "# target density \n",
    "log_prob = lambda x: target.gauss_function(x, dim = dim, mu = mu, gauss_sigma = gauss_sigma)"
   ]
  },
  {
   "cell_type": "code",
   "execution_count": null,
   "metadata": {},
   "outputs": [],
   "source": [
    "# MRW sampling \n",
    "MRW_sample = presample.MRW(X0 = X0, N = N, dim = dim, log_prob = log_prob, proposal = prop, B = B, N_chain = N_chain)\n",
    "print(f\"Overall acceptance rate is {round(MRW_sample[1]*100,2)}%\")\n",
    "print(f'Average operation time is: {round(MRW_sample[2],2)}s')\n",
    "print(f'Standard deviation of operation time is {round(MRW_sample[3],2)}s')"
   ]
  },
  {
   "source": [
    "## Metropolis-adjusted Langevin algorithm"
   ],
   "cell_type": "markdown",
   "metadata": {}
  },
  {
   "cell_type": "code",
   "execution_count": null,
   "metadata": {},
   "outputs": [],
   "source": [
    "# Hyper parameters of target function \n",
    "# and iteration setting \n",
    "dim = 2 # dimension\n",
    "mu = 2  # loc paramter \n",
    "gauss_sigma = np.diag([2, 0.05]) # scale parameter \n",
    "X0 = np.array([-2, -2]) # Initialisation \n",
    "stepsize = 0.08 \n",
    "N = 100000            # total iteration \n",
    "B = 5000              # burn-in \n",
    "N_chain = 1         # number of chains "
   ]
  },
  {
   "source": [
    "## Plot and Comparison "
   ],
   "cell_type": "markdown",
   "metadata": {}
  },
  {
   "cell_type": "code",
   "execution_count": null,
   "metadata": {},
   "outputs": [],
   "source": [
    "fig, ax = plt.subplots(1,2, figsize = (10,4))\n",
    "ax[0].plot(MRW_sample[4][0][0][0:500], MRW_sample[4][0][1][0:500])\n",
    "ax[0].set_title(r'MRW $(h = 0.95 \\, \\alpha \\approx 23.4\\%)$')\n",
    "ax[0].set_xlabel(\"$X_1,  \\sigma^2 = 2$\", fontsize = 12)\n",
    "ax[0].set_ylabel(\"$X_2,  \\sigma^2 = 0.05$\", fontsize = 12)\n",
    "\n",
    "ax[1].plot(MALA_sample[4][0][0][0:500], MALA_sample[4][0][1][0:500])\n",
    "ax[1].set_title(r'MALA $(h = 0.09 \\, \\alpha \\approx 57.4\\%)$')\n",
    "ax[1].set_xlabel(\"$X_1,  \\sigma^2 = 2$\", fontsize = 12)\n",
    "ax[1].set_ylabel(\"$X_2,  \\sigma^2 = 0.05$\", fontsize = 12)\n",
    "\n",
    "plt.tight_layout() \n",
    "plt.show()"
   ]
  }
 ]
}